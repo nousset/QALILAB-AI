{
 "cells": [
  {
   "cell_type": "code",
   "execution_count": 1,
   "id": "105146a9-4f90-43e8-8ba3-b4307daff685",
   "metadata": {},
   "outputs": [
    {
     "name": "stdout",
     "output_type": "stream",
     "text": [
      "Note: you may need to restart the kernel to use updated packages.\n"
     ]
    },
    {
     "name": "stderr",
     "output_type": "stream",
     "text": [
      "C:\\Users\\LENOVO\\AppData\\Local\\Programs\\Python\\Python313\\python.exe: No module named pip\n"
     ]
    }
   ],
   "source": [
    "pip install flask requests\n"
   ]
  },
  {
   "cell_type": "code",
   "execution_count": null,
   "id": "ad6f7502-73ea-4a9a-8802-d134e62f2fe6",
   "metadata": {},
   "outputs": [],
   "source": []
  }
 ],
 "metadata": {
  "kernelspec": {
   "display_name": "Python 3 (ipykernel)",
   "language": "python",
   "name": "python3"
  },
  "language_info": {
   "codemirror_mode": {
    "name": "ipython",
    "version": 3
   },
   "file_extension": ".py",
   "mimetype": "text/x-python",
   "name": "python",
   "nbconvert_exporter": "python",
   "pygments_lexer": "ipython3",
   "version": "3.13.3"
  }
 },
 "nbformat": 4,
 "nbformat_minor": 5
}
